{
 "cells": [
  {
   "cell_type": "code",
   "execution_count": 1,
   "metadata": {},
   "outputs": [],
   "source": [
    "import multiprocessing\n",
    "from pathlib import Path\n",
    "import matplotlib.pyplot as plt\n",
    "from mpl_toolkits.axes_grid1 import ImageGrid\n",
    "import cv2\n",
    "import numpy as np\n",
    "import imutils\n",
    "import random\n",
    "import pickle\n",
    "import os\n",
    "import shutil\n",
    "import time\n",
    "import Augmentor"
   ]
  },
  {
   "cell_type": "code",
   "execution_count": 2,
   "metadata": {},
   "outputs": [],
   "source": [
    "def dataset_augmentation(path, nb_imgs):\n",
    "    # Path to the image dataset\n",
    "    p = Augmentor.Pipeline(str(path), output_directory=\".\")\n",
    "\n",
    "    # Operations to be performed on the images:\n",
    "    p.rotate90(probability=0.2)\n",
    "    p.rotate270(probability=0.2)\n",
    "    p.flip_left_right(probability=0.30)\n",
    "    p.flip_top_bottom(probability=0.30)\n",
    "    p.skew_tilt(probability=0.25, magnitude=0.1)\n",
    "    p.random_distortion(probability=1, grid_width=2, grid_height=2, magnitude=4)\n",
    "\n",
    "    # Specifyin the number of images to generate\n",
    "    p.sample(nb_imgs)\n",
    "    \n",
    "    print({path}, \": augmentation done for\", {nb_imgs}, \"more images.\")"
   ]
  },
  {
   "cell_type": "code",
   "execution_count": 3,
   "metadata": {},
   "outputs": [],
   "source": [
    "ROOT_DIR = Path.cwd()\n",
    "\n",
    "SHAPES = ['Cercles', 'Diamants', 'Hexagones', 'Triangles']\n",
    "\n",
    "THRESHOLDS = {\n",
    "    'Cercle2': 0.6,\n",
    "    'Cercle3': 0.6,\n",
    "    'Cercle4': 0.6,\n",
    "    'Cercle5': 0.4,\n",
    "    'Diamant2': 0.6,\n",
    "    'Diamant3': 0.6,\n",
    "    'Diamant4': 0.6,\n",
    "    'Diamant5': 0.4,\n",
    "    'Hexagone2': 0.6,\n",
    "    'Hexagone3': 0.6,\n",
    "    'Hexagone4': 0.6,\n",
    "    'Hexagone5': 0.5,\n",
    "    'Triangle2': 0.6,\n",
    "    'Triangle3': 0.6,\n",
    "    'Triangle4': 0.6,\n",
    "    'Triangle5': 0.6,\n",
    "}\n",
    "\n",
    "GROUPS = [2,3,4,5]\n",
    "\n",
    "path_ensemble_A = Path(ROOT_DIR, 'EnsembleA_H2020')"
   ]
  },
  {
   "cell_type": "code",
   "execution_count": 4,
   "metadata": {},
   "outputs": [],
   "source": [
    "def get_shapes_markers(shape_dir):\n",
    "    \"\"\"\n",
    "    Prend le nom du pattern en string en parametre\n",
    "    :return dict avec les paths des images et le marker associer\n",
    "    exemple:\n",
    "        {\n",
    "            \"Cercle2\":  {\n",
    "                \"marker_path\": PosixPath('path/to/markers/C2.jpg'),\n",
    "                \"images\": [PosixPath('path/to/images/Cercle2/001_Cercle2.jpg'), ...],\n",
    "            },\n",
    "            \"Cercle3\": {...},\n",
    "            ...\n",
    "        }\n",
    "    \"\"\"\n",
    "    paths = [path_ensemble_A/Path(shape_dir, f'{shape_dir[:-1]}{i}') for i in GROUPS]\n",
    "\n",
    "    sub_shapes = dict()\n",
    "    for p in paths:\n",
    "        img = []\n",
    "        for root, dirs, files in os.walk(str(p)):\n",
    "            [img.append(f'{p}/{f}') for f in files]\n",
    "        sub_shapes.update({\n",
    "            p.name: {\n",
    "                'marker_path': Path(ROOT_DIR, 'Resources', 'markers', f'{p.name[:1]+p.name[-1:]}.jpg'),\n",
    "                'images': img,\n",
    "            }\n",
    "        })\n",
    "\n",
    "    return sub_shapes"
   ]
  },
  {
   "cell_type": "code",
   "execution_count": 5,
   "metadata": {},
   "outputs": [],
   "source": [
    "# RUN THIS CELL TO CREATE ENSEMBLE_B DATABASE\n",
    "#  TO REVISIT:\n",
    "#  TWEEKING OF THRESHOLD FOR EACH SHAPE \n",
    "\n",
    "ensemble_A = {}\n",
    "\n",
    "for shape in SHAPES:\n",
    "    imgs = get_shapes_markers(shape)\n",
    "    ensemble_A.update({shape: imgs})\n",
    "    \n",
    "path_ensemble_B = Path(ROOT_DIR, 'EnsembleB_H2020')\n",
    "\n",
    "if os.path.exists(str(path_ensemble_B)):\n",
    "    shutil.rmtree(str(path_ensemble_B), ignore_errors=True)\n",
    "    time.sleep(1)\n",
    "path_ensemble_B.mkdir(parents=True, exist_ok=True)\n"
   ]
  },
  {
   "cell_type": "code",
   "execution_count": 6,
   "metadata": {},
   "outputs": [
    {
     "name": "stdout",
     "output_type": "stream",
     "text": [
      "match Cercle2 : 84/311\n",
      "match Cercle3 : 126/555\n",
      "match Cercle4 : 92/348\n",
      "match Cercle5 : 58/212\n",
      "match Diamant2 : 134/444\n",
      "match Diamant3 : 95/332\n",
      "match Diamant4 : 69/252\n",
      "match Diamant5 : 153/203\n",
      "match Hexagone2 : 101/339\n",
      "match Hexagone3 : 79/276\n",
      "match Hexagone4 : 53/239\n",
      "match Hexagone5 : 60/271\n",
      "match Triangle2 : 165/442\n",
      "match Triangle3 : 78/214\n",
      "match Triangle4 : 59/237\n",
      "match Triangle5 : 50/149\n"
     ]
    }
   ],
   "source": [
    "for shape, groups in ensemble_A.items():\n",
    "    for group, paths in groups.items():\n",
    "        group_path = path_ensemble_B/Path(shape, group)\n",
    "        group_path.mkdir(parents=True, exist_ok=True)\n",
    "        marker = cv2.imread(str(paths['marker_path']), cv2.IMREAD_GRAYSCALE)\n",
    "        nb_match = 0\n",
    "        for image_path in paths['images']:\n",
    "            image = cv2.imread(str(image_path))\n",
    "            new_path=str(image_path).replace(\"EnsembleA\",\"EnsembleB\")\n",
    "\n",
    "            bitwise = cv2.bitwise_not(image)\n",
    "            resized = imutils.resize(bitwise, width=300)\n",
    "            # ratio = image.shape[0] / float(resized.shape[0])\n",
    "\n",
    "            #  https://opencv-python-tutroals.readthedocs.io/en/latest/py_tutorials/py_imgproc/py_thresholding/py_thresholding.html\n",
    "            # convert the resized image to grayscale, blur it slightly,\n",
    "            # and threshold it\n",
    "            gray = cv2.cvtColor(resized, cv2.COLOR_BGR2GRAY)\n",
    "            # blurred = cv2.GaussianBlur(gray, (5, 5), 0)\n",
    "            # thresh = cv2.threshold(blurred, 160, 255, cv2.ADAPTIVE_THRESH_GAUSSIAN_C)[1]\n",
    "\n",
    "# WILL NEED TO EXTRACT IMAGE BEFORE FINDING FEATURES\n",
    "            img = gray\n",
    "            w,h = img.shape[::-1]\n",
    "            base_width = int(w/2)\n",
    "            i=0\n",
    "            has_matched = False\n",
    "            templateRotation=0\n",
    "#             im_crop=0\n",
    "            while templateRotation < 350:\n",
    "\n",
    "                rotated = imutils.rotate(marker, angle=templateRotation)\n",
    "                templateRotation=templateRotation+10\n",
    "\n",
    "                while i < base_width-40:\n",
    "                    if has_matched:\n",
    "                        break\n",
    "                    bitwise = cv2.bitwise_not(marker)\n",
    "                    resized = imutils.resize(bitwise, width=base_width-i)\n",
    "\n",
    "                    w,h = resized.shape[::-1]\n",
    "                    i=i+20\n",
    "                    result = cv2.matchTemplate(img, resized, cv2.TM_CCOEFF_NORMED)\n",
    "                    loc = np.where(result >= THRESHOLDS[group])\n",
    "\n",
    "                    for pt in zip(*loc[::-1]):\n",
    "                        has_matched = True\n",
    "                        im_crop = img[pt[1]:pt[1]+h, pt[0]:pt[0]+w]\n",
    "                        cv2.imwrite(new_path, im_crop)\n",
    "                        nb_match = nb_match + 1\n",
    "                        break\n",
    "                        \n",
    "        print(f'match {group} : {nb_match}/{len(paths[\"images\"])}')"
   ]
  },
  {
   "cell_type": "code",
   "execution_count": 9,
   "metadata": {},
   "outputs": [
    {
     "name": "stderr",
     "output_type": "stream",
     "text": [
      "Processing <PIL.Image.Image image mode=L size=110x110 at 0x22100130F08>: 100%|██| 50/50 [00:00<00:00, 294.90 Samples/s]"
     ]
    },
    {
     "name": "stdout",
     "output_type": "stream",
     "text": [
      "Initialised with 134 image(s) found.\n",
      "Output directory set to D:\\Ecole\\LOG635\\Lab2\\EnsembleB_H2020\\Cercles\\Cercle2\\..{WindowsPath('D:/Ecole/LOG635/Lab2/EnsembleB_H2020/Cercles/Cercle2')} : augmentation done for {50} more images.\n"
     ]
    },
    {
     "name": "stderr",
     "output_type": "stream",
     "text": [
      "\n",
      "Processing <PIL.Image.Image image mode=L size=70x70 at 0x2217BAECFC8>: 100%|████| 50/50 [00:00<00:00, 557.05 Samples/s]"
     ]
    },
    {
     "name": "stdout",
     "output_type": "stream",
     "text": [
      "Initialised with 126 image(s) found.\n",
      "Output directory set to D:\\Ecole\\LOG635\\Lab2\\EnsembleB_H2020\\Cercles\\Cercle3\\..{WindowsPath('D:/Ecole/LOG635/Lab2/EnsembleB_H2020/Cercles/Cercle3')} : augmentation done for {50} more images.\n"
     ]
    },
    {
     "name": "stderr",
     "output_type": "stream",
     "text": [
      "\n",
      "Processing <PIL.Image.Image image mode=L size=70x70 at 0x2210215A508>: 100%|████| 50/50 [00:00<00:00, 626.67 Samples/s]"
     ]
    },
    {
     "name": "stdout",
     "output_type": "stream",
     "text": [
      "Initialised with 78 image(s) found.\n",
      "Output directory set to D:\\Ecole\\LOG635\\Lab2\\EnsembleB_H2020\\Triangles\\Triangle3\\..{WindowsPath('D:/Ecole/LOG635/Lab2/EnsembleB_H2020/Triangles/Triangle3')} : augmentation done for {50} more images.\n"
     ]
    },
    {
     "name": "stderr",
     "output_type": "stream",
     "text": [
      "\n",
      "Processing <PIL.Image.Image image mode=L size=90x90 at 0x221021A3688>: 100%|████| 50/50 [00:00<00:00, 611.40 Samples/s]"
     ]
    },
    {
     "name": "stdout",
     "output_type": "stream",
     "text": [
      "Initialised with 95 image(s) found.\n",
      "Output directory set to D:\\Ecole\\LOG635\\Lab2\\EnsembleB_H2020\\Diamants\\Diamant3\\..{WindowsPath('D:/Ecole/LOG635/Lab2/EnsembleB_H2020/Diamants/Diamant3')} : augmentation done for {50} more images.\n"
     ]
    },
    {
     "name": "stderr",
     "output_type": "stream",
     "text": [
      "\n",
      "Processing <PIL.Image.Image image mode=L size=70x70 at 0x2210012CAC8>: 100%|████| 50/50 [00:00<00:00, 589.81 Samples/s]"
     ]
    },
    {
     "name": "stdout",
     "output_type": "stream",
     "text": [
      "Initialised with 79 image(s) found.\n",
      "Output directory set to D:\\Ecole\\LOG635\\Lab2\\EnsembleB_H2020\\Hexagones\\Hexagone3\\..{WindowsPath('D:/Ecole/LOG635/Lab2/EnsembleB_H2020/Hexagones/Hexagone3')} : augmentation done for {50} more images.\n"
     ]
    },
    {
     "name": "stderr",
     "output_type": "stream",
     "text": [
      "\n"
     ]
    }
   ],
   "source": [
    "dataset_augmentation(path_ensemble_B / \"Cercles\" / \"Cercle2\", 50)\n",
    "dataset_augmentation(path_ensemble_B / \"Cercles\" / \"Cercle3\", 50)\n",
    "dataset_augmentation(path_ensemble_B / \"Triangles\" / \"Triangle3\", 50)\n",
    "dataset_augmentation(path_ensemble_B / \"Diamants\" / \"Diamant3\", 50)\n",
    "dataset_augmentation(path_ensemble_B / \"Hexagones\" / \"Hexagone2\", 50)\n",
    "dataset_augmentation(path_ensemble_B / \"Hexagones\" / \"Hexagone3\", 50)"
   ]
  }
 ],
 "metadata": {
  "kernelspec": {
   "display_name": "Python 3",
   "language": "python",
   "name": "python3"
  },
  "language_info": {
   "codemirror_mode": {
    "name": "ipython",
    "version": 3
   },
   "file_extension": ".py",
   "mimetype": "text/x-python",
   "name": "python",
   "nbconvert_exporter": "python",
   "pygments_lexer": "ipython3",
   "version": "3.8.5"
  }
 },
 "nbformat": 4,
 "nbformat_minor": 4
}
